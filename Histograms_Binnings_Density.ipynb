{
  "nbformat": 4,
  "nbformat_minor": 0,
  "metadata": {
    "colab": {
      "provenance": [],
      "authorship_tag": "ABX9TyM1am+/d/1t7gKoN4B8dNP+",
      "include_colab_link": true
    },
    "kernelspec": {
      "name": "python3",
      "display_name": "Python 3"
    },
    "language_info": {
      "name": "python"
    }
  },
  "cells": [
    {
      "cell_type": "markdown",
      "metadata": {
        "id": "view-in-github",
        "colab_type": "text"
      },
      "source": [
        "<a href=\"https://colab.research.google.com/github/Hamza7232/Numpy-Pandas-Matplotlib-Notes/blob/main/Histograms_Binnings_Density.ipynb\" target=\"_parent\"><img src=\"https://colab.research.google.com/assets/colab-badge.svg\" alt=\"Open In Colab\"/></a>"
      ]
    },
    {
      "cell_type": "code",
      "execution_count": null,
      "metadata": {
        "colab": {
          "base_uri": "https://localhost:8080/",
          "height": 356
        },
        "id": "h1eHSpY-5O3k",
        "outputId": "85b59a23-c430-4695-a998-f1b7489dd1be"
      },
      "outputs": [
        {
          "output_type": "execute_result",
          "data": {
            "text/plain": [
              "(array([  3.,  20.,  68., 148., 236., 216., 177.,  75.,  41.,  16.]),\n",
              " array([-3.15753558, -2.5517695 , -1.94600343, -1.34023735, -0.73447128,\n",
              "        -0.1287052 ,  0.47706088,  1.08282695,  1.68859303,  2.2943591 ,\n",
              "         2.90012518]),\n",
              " <a list of 10 Patch objects>)"
            ]
          },
          "metadata": {},
          "execution_count": 1
        },
        {
          "output_type": "display_data",
          "data": {
            "text/plain": [
              "<Figure size 432x288 with 1 Axes>"
            ],
            "image/png": "[encoded data removed]"
          },
          "metadata": {
            "needs_background": "light"
          }
        }
      ],
      "source": [
        "import numpy as np\n",
        "import matplotlib.pyplot as plt\n",
        "x=np.random.randn(1000)  #generates an array of 1000 random normal numbers\n",
        "plt.hist(x)              #plots a histogram of the random array x"
      ]
    },
    {
      "cell_type": "code",
      "source": [
        "x1 = np.random.normal(0, 0.8, 1000) #random.normal(loc=0.0, scale=1.0, size=None)\n",
        "x2 = np.random.normal(-2, 1, 1000)  # loc=mean, scale=standard deviation, size=number of samples \n",
        "x3 = np.random.normal(3, 2, 1000)\n",
        "kwargs = dict(histtype='stepfilled', alpha=0.3, bins=40)\n",
        "plt.hist(x1, **kwargs)\n",
        "plt.hist(x2, **kwargs)\n",
        "plt.hist(x3, **kwargs);"
      ],
      "metadata": {
        "colab": {
          "base_uri": "https://localhost:8080/",
          "height": 265
        },
        "id": "LXbUz1gQ6Gif",
        "outputId": "df83c474-bc8e-432e-a313-04a27e73a917"
      },
      "execution_count": null,
      "outputs": [
        {
          "output_type": "display_data",
          "data": {
            "text/plain": [
              "<Figure size 432x288 with 1 Axes>"
            ],
            "image/png": "[encoded data removed]"
          },
          "metadata": {
            "needs_background": "light"
          }
        }
      ]
    },
    {
      "cell_type": "code",
      "source": [],
      "metadata": {
        "id": "CVVvWD1L8exu"
      },
      "execution_count": null,
      "outputs": []
    }
  ]
}